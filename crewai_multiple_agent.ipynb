{
 "cells": [
  {
   "cell_type": "code",
   "execution_count": 1,
   "id": "10a61ab9-30de-49f0-ac39-9ab6186f7d64",
   "metadata": {},
   "outputs": [],
   "source": [
    "import crewai\n",
    "import json\n",
    "import os\n",
    "from crewai import Agent\n",
    "from crewai_tools import SerperDevTool\n",
    "from dotenv import load_dotenv"
   ]
  },
  {
   "cell_type": "code",
   "execution_count": 2,
   "id": "0c1b1f7b-6759-4235-afc2-facc894b39d6",
   "metadata": {},
   "outputs": [
    {
     "data": {
      "text/plain": [
       "True"
      ]
     },
     "execution_count": 2,
     "metadata": {},
     "output_type": "execute_result"
    }
   ],
   "source": [
    "load_dotenv()"
   ]
  },
  {
   "cell_type": "code",
   "execution_count": 3,
   "id": "c190d470-ab75-4843-8aa7-ad99ac5013ac",
   "metadata": {},
   "outputs": [],
   "source": [
    "from crewai import Crew, Process, Agent, Task\n",
    "search_tool = SerperDevTool()"
   ]
  },
  {
   "cell_type": "code",
   "execution_count": 4,
   "id": "79d8bd8f-7098-4287-b4ad-c5bd89c1fba5",
   "metadata": {},
   "outputs": [],
   "source": [
    "# Define your agents\n",
    "researcher = Agent(\n",
    "  role='Researcher',\n",
    "  goal='Conduct foundational research',\n",
    "  backstory='An experienced researcher with a passion for uncovering insights'\n",
    ")\n",
    "\n",
    "analyst = Agent(\n",
    "  role='Data Analyst',\n",
    "  goal='Analyze research findings',\n",
    "  backstory='A meticulous analyst with a knack for uncovering patterns'\n",
    ")\n",
    "\n",
    "writer = Agent(\n",
    "  role='Writer',\n",
    "  goal='Draft the final report',\n",
    "  backstory='A skilled writer with a talent for crafting compelling narratives'\n",
    ")"
   ]
  },
  {
   "cell_type": "code",
   "execution_count": 5,
   "id": "9c03eaaa-41e1-450c-a5e5-08e10dd58261",
   "metadata": {},
   "outputs": [],
   "source": [
    "# Define the tasks in sequence\n",
    "# Research task\n",
    "research_task = Task(\n",
    "  description=(\n",
    "        \"\"\"\n",
    "        Interpret the question, marked by [QUESTION], and generate mutually exclusive questions. This means that one of\n",
    "        the questions must be true and the other answer must necessarily be false.\n",
    "        \n",
    "        Example 1:\n",
    "\n",
    "        Question - \"Will Instagram achieve 100,000 users by the end of 2025?\"\n",
    "        Output - '''\n",
    "        1 - Will Instagram achieve 100,000 or more users by the end of 2025?\n",
    "        2 - Will Instagram achieve less than 100,000 users by the end of 2025?\n",
    "\n",
    "        \n",
    "        '''\n",
    "        \n",
    "        [QUESTION]\n",
    "        {{question}}\n",
    "        \"\"\"\n",
    "  ),\n",
    "  expected_output='''\n",
    "  A list containing 2 bullet points. Each bullet point should contain one question. \n",
    "  The two questions must be mutually exclusive.\n",
    "  ''',\n",
    "  #tools=[search_tool],\n",
    "    tools = [],\n",
    "  agent=researcher,\n",
    ")\n",
    "#analysis_task = Task(description='Analyze the data...', agent=analyst)\n",
    "#writing_task = Task(description='Compose the report...', agent=writer)\n"
   ]
  },
  {
   "cell_type": "code",
   "execution_count": 6,
   "id": "8e4e7f91-bcf9-423c-9f76-8891739b260c",
   "metadata": {},
   "outputs": [],
   "source": [
    "# Form the crew with a sequential process\n",
    "report_crew = Crew(\n",
    "  agents=[researcher],\n",
    "  #tasks=[research_task, analysis_task, writing_task],\n",
    "    tasks=[research_task],\n",
    "  process=Process.sequential\n",
    ")"
   ]
  },
  {
   "cell_type": "code",
   "execution_count": 7,
   "id": "05dd3975-b123-4369-a43b-e04613b7d65e",
   "metadata": {},
   "outputs": [
    {
     "name": "stdout",
     "output_type": "stream",
     "text": [
      "1 - Will the new iPhone model be released in or before September?\n",
      "2 - Will the new iPhone model be released after September?\n"
     ]
    }
   ],
   "source": [
    "# Starting the task execution process with enhanced feedback\n",
    "result = report_crew.kickoff(inputs={'question': 'Will Gnosis Pay reach 100k users by 2024?'})\n",
    "print(result)"
   ]
  },
  {
   "cell_type": "code",
   "execution_count": 8,
   "id": "8b5518bb-edcf-40ba-ae98-2ecdbed757d5",
   "metadata": {},
   "outputs": [
    {
     "name": "stdout",
     "output_type": "stream",
     "text": [
      "1 - Will the price of crypto increase in the next 2 months?\n",
      "2 - Will the price of crypto not increase in the next 2 months?\n"
     ]
    }
   ],
   "source": [
    "question = 'Will the price of crypto go up again in the next 2 months?'\n",
    "result = report_crew.kickoff(inputs={'question': question})\n",
    "print(result)"
   ]
  },
  {
   "cell_type": "markdown",
   "id": "7b939c1f-a658-458e-b88c-87a27e76595b",
   "metadata": {},
   "source": [
    "# Other approach"
   ]
  },
  {
   "cell_type": "code",
   "execution_count": 28,
   "id": "c4152d0b-7a0e-424b-9c24-a8b97d97441e",
   "metadata": {},
   "outputs": [],
   "source": [
    "# Define the tasks in sequence\n",
    "# Research task\n",
    "research_prompt =         \"\"\"\n",
    "        You are asked about a SCENARIO, which can have multiple, mutually-exclusive outcomes.\n",
    "        You should break down the SCENARIO into a list of possible outcomes.\n",
    "        \n",
    "        Example 1:\n",
    "        - SCENARIO: Will Gnosis Pay reach 100,000 users by 2025?\n",
    "        - Answer: '''\n",
    "            - Gnosis Pay reaches less than 25,000 users by 2025\n",
    "            - Gnosis Pay reaches more than 25,000 users but less than 50,000 users by 2025\n",
    "            - Gnosis Pay reaches more than 50,000 users but less than 75,000 users by 2025\n",
    "            - Gnosis Pay reaches 100,000 users or more by 2025\n",
    "        '''\n",
    "\n",
    "        Example 2:\n",
    "        - SCENARIO: Will the price of Bitcoin go up again in the next 2 months?\n",
    "        - Answer: '''\n",
    "            - The price of crypto will go up in the next 2 months\n",
    "            - The price of crypto will not go up in the next 2 months\n",
    "        '''\n",
    "        \n",
    "        [SCENARIO]\n",
    "        {scenario}\n",
    "        \"\"\"\n",
    "research_prompt =         \"\"\"\n",
    "        You are asked about a SCENARIO, which can have multiple, mutually-exclusive outcomes.\n",
    "        You should break down the SCENARIO into a list of possible outcomes.\n",
    "        \n",
    "        [SCENARIO]\n",
    "        {scenario}\n",
    "        \"\"\"\n",
    "expected_output = '''\n",
    "  A list containing multiple bullet points. Each bullet point should start with '-'.\n",
    "  Each bullet point should contain a possible outcome resulting from the\n",
    "  provided SCENARIO. The produced outcomes should be mutually exclusive, i.e. only one of them should be true whereas\n",
    "  the remaining ones should be false.\n",
    "  '''\n",
    "#analysis_task = Task(description='Analyze the data...', agent=analyst)\n",
    "#writing_task = Task(description='Compose the report...', agent=writer)\n"
   ]
  },
  {
   "cell_type": "code",
   "execution_count": 29,
   "id": "3420ddae-85be-4ba5-81b8-be8543ea26ce",
   "metadata": {},
   "outputs": [],
   "source": [
    "def print_outcomes(question:str) -> None:\n",
    "    research_task = Task(\n",
    "  description=(research_prompt),\n",
    "  expected_output=expected_output,\n",
    "  #tools=[search_tool],\n",
    "    tools = [],\n",
    "  agent=researcher,\n",
    ")\n",
    "\n",
    "    report_crew = Crew(\n",
    "      agents=[researcher],\n",
    "        tasks=[research_task],\n",
    "      process=Process.sequential\n",
    "    )\n",
    "    result = report_crew.kickoff(inputs={'scenario': question})\n",
    "    print(result)"
   ]
  },
  {
   "cell_type": "code",
   "execution_count": 30,
   "id": "b2675c76-fba3-45eb-b29c-dd407fd98cac",
   "metadata": {},
   "outputs": [
    {
     "name": "stderr",
     "output_type": "stream",
     "text": [
      "2024-04-03 15:14:24,080 - 128867878282496 - __init__.py-__init__:521 - WARNING: Overriding of current TracerProvider is not allowed\n"
     ]
    },
    {
     "name": "stdout",
     "output_type": "stream",
     "text": [
      "- Outcome 1: Smart accounts fully replace EOAs in the EVM ecosystem. This could occur if the benefits of smart accounts, such as increased security and functionality, outweigh the costs and challenges of implementing them. This would require significant technological advancements and widespread adoption among developers and users.\n",
      "\n",
      "- Outcome 2: Smart accounts and EOAs coexist in the EVM ecosystem. This could happen if both types of accounts offer unique advantages that make them suitable for different use cases. For instance, EOAs might remain the preferred choice for simple transactions, while smart accounts might be used for more complex operations that require programmable logic.\n",
      "\n",
      "- Outcome 3: Smart accounts fail to gain traction and EOAs remain the dominant type of accounts in the EVM ecosystem. This could be the case if the drawbacks of smart accounts, such as potential security risks and higher complexity, deter their adoption. It could also happen if the Ethereum community decides to prioritize other developments over the integration of smart accounts.\n",
      "\n",
      "- Outcome 4: A new type of account, different from both smart accounts and EOAs, emerges and becomes the new standard in the EVM ecosystem. This could occur if there are significant innovations in blockchain technology that render both smart accounts and EOAs obsolete.\n"
     ]
    }
   ],
   "source": [
    "question = 'Will smart accounts replace EOAs in the EVM ecosystem in the next 3-5 years?'\n",
    "print_outcomes(question)"
   ]
  },
  {
   "cell_type": "code",
   "execution_count": 31,
   "id": "500a0dfe-233b-4a90-9183-e39e799a023d",
   "metadata": {},
   "outputs": [
    {
     "name": "stderr",
     "output_type": "stream",
     "text": [
      "2024-04-03 15:14:38,621 - 128867878282496 - __init__.py-__init__:521 - WARNING: Overriding of current TracerProvider is not allowed\n"
     ]
    },
    {
     "name": "stdout",
     "output_type": "stream",
     "text": [
      "- The temperature will be above 20C on May 24, 2024, in Berlin.\n",
      "- The temperature will be exactly 20C on May 24, 2024, in Berlin.\n",
      "- The temperature will be below 20C on May 24, 2024, in Berlin.\n"
     ]
    }
   ],
   "source": [
    "question = 'Will the temperature be above 20C on May 24, 2024 in Berlin?'\n",
    "print_outcomes(question)"
   ]
  },
  {
   "cell_type": "code",
   "execution_count": 32,
   "id": "2e1cb34b-3913-4af3-a07b-623eef09c270",
   "metadata": {},
   "outputs": [
    {
     "name": "stderr",
     "output_type": "stream",
     "text": [
      "2024-04-03 15:15:48,216 - 128867878282496 - __init__.py-__init__:521 - WARNING: Overriding of current TracerProvider is not allowed\n"
     ]
    },
    {
     "name": "stdout",
     "output_type": "stream",
     "text": [
      "- The exchange rate will reach parity (1€ = 1$) before 2027: This scenario could occur if the European economy strengthens significantly or if the US economy weakens. Factors that could influence this scenario include unexpected economic growth in the Eurozone, a significant increase in European interest rates, or a major economic crisis in the United States.\n",
      "\n",
      "- The exchange rate will not reach parity (1€ ≠ 1$) before 2027: This could happen if the US economy continues to strengthen, or if the European economy weakens. Factors that could contribute to this scenario include continued economic growth in the United States, an increase in US interest rates, or a major economic crisis in Europe.\n",
      "\n",
      "- The exchange rate will fluctuate, but never exactly reach parity (1€ ≠ 1$) before 2027: This scenario could happen due to the inherent volatility of currency markets. Rates might come close to parity but not meet it exactly. This would be influenced by ongoing changes in both the European and US economies, as well as geopolitical events and market speculation.\n",
      "\n",
      "These are all possible scenarios, but it's important to note that currency market predictions are notoriously difficult and uncertain, and the actual outcome might be influenced by unpredictable events and factors.\n"
     ]
    },
    {
     "data": {
      "text/plain": [
       "'\\n- The exchange rate between Euro and Dollar will reach parity (1€ equals 1$) before 2027\\n- The exchange rate between Euro and Dollar will not reach parity before 2027, but will come close (1€ equals between 1.01$ - 1.10$)\\n- The exchange rate between Euro and Dollar will not come close to parity before 2027, with the Euro remaining stronger (1€ equals more than 1.10$)\\n- The exchange rate between Euro and Dollar will not come close to parity before 2027, with the Dollar remaining stronger (1€ equals less than 0.90$)\\n'"
      ]
     },
     "execution_count": 32,
     "metadata": {},
     "output_type": "execute_result"
    }
   ],
   "source": [
    "question = 'Will there be a period in the currency market where 1€ equals 1$ before 2027?'\n",
    "print_outcomes(question)\n",
    "'''\n",
    "- The exchange rate between Euro and Dollar will reach parity (1€ equals 1$) before 2027\n",
    "- The exchange rate between Euro and Dollar will not reach parity before 2027, but will come close (1€ equals between 1.01$ - 1.10$)\n",
    "- The exchange rate between Euro and Dollar will not come close to parity before 2027, with the Euro remaining stronger (1€ equals more than 1.10$)\n",
    "- The exchange rate between Euro and Dollar will not come close to parity before 2027, with the Dollar remaining stronger (1€ equals less than 0.90$)\n",
    "'''"
   ]
  },
  {
   "cell_type": "code",
   "execution_count": 56,
   "id": "1f57657b-04ca-41da-9160-1f5e7df52b89",
   "metadata": {},
   "outputs": [],
   "source": [
    "from pydantic import BaseModel"
   ]
  },
  {
   "cell_type": "code",
   "execution_count": 57,
   "id": "6318ecc5-c0f1-4835-84a5-bc08fb0ae4ae",
   "metadata": {},
   "outputs": [
    {
     "data": {
      "text/plain": [
       "'```\\n{\\n\"decision\": \"n\",\\n\"p_yes\": 0.2,\\n\"p_no\": 0.8,\\n\"confidence\": 0.85\\n}\\n```'"
      ]
     },
     "execution_count": 57,
     "metadata": {},
     "output_type": "execute_result"
    }
   ],
   "source": [
    "result"
   ]
  },
  {
   "cell_type": "code",
   "execution_count": 58,
   "id": "0e013f79-c011-4cff-9a77-00f947df503a",
   "metadata": {},
   "outputs": [],
   "source": [
    "class ProbabilityOutput(BaseModel):\n",
    "    decision: str\n",
    "    p_yes: float\n",
    "    p_no: float\n",
    "    confidence: float"
   ]
  },
  {
   "cell_type": "markdown",
   "id": "d17b1602-f3ee-4f52-8e34-a7c034cebe4b",
   "metadata": {},
   "source": [
    "## Return probability of each affirmation"
   ]
  },
  {
   "cell_type": "code",
   "execution_count": 33,
   "id": "10307714-e445-4c09-a2a3-18884b46941a",
   "metadata": {},
   "outputs": [],
   "source": [
    "researcher = Agent(\n",
    "            role=\"Research Analyst\",\n",
    "            goal=\"Research and report on some future event, giving high quality and nuanced analysis\",\n",
    "            backstory=\"You are a senior research analyst who is adept at researching and reporting on future events.\",\n",
    "            verbose=True,\n",
    "            allow_delegation=False,\n",
    "            tools=[search_tool],\n",
    "        )\n",
    "predictor = Agent(\n",
    "            role=\"Professional Gambler\",\n",
    "            goal=\"Predict, based on some research you are presented with, whether or not a given event will occur\",\n",
    "            backstory=\"You are a professional gambler who is adept at predicting and betting on the outcomes of future events.\",\n",
    "            verbose=True,\n",
    "            allow_delegation=False,\n",
    "        )"
   ]
  },
  {
   "cell_type": "code",
   "execution_count": 60,
   "id": "ce8c6c61-23e5-43bb-833a-4d2fb40a48dd",
   "metadata": {},
   "outputs": [
    {
     "name": "stderr",
     "output_type": "stream",
     "text": [
      "2024-04-03 15:28:45,913 - 128867878282496 - __init__.py-__init__:521 - WARNING: Overriding of current TracerProvider is not allowed\n"
     ]
    }
   ],
   "source": [
    "\n",
    "task1 = Task(\n",
    "            description=(\"\"\"\n",
    "                Research and report on the following sentence:\n",
    "                {sentence}\n",
    "                Search and scrape the web for information that will help you give a high quality, nuanced answer to the question.\n",
    "                \"\"\"\n",
    "            ),\n",
    "            tools=[search_tool],\n",
    "            agent=researcher,\n",
    "            expected_output=(\"\"\"\n",
    "            Return your answer in raw JSON format, with no special formatting such as newlines, as follows:\n",
    "                {{\"report\": <REPORT>}}\n",
    "                where <REPORT> is a free text field that contains a well though out justification \n",
    "                for the predicition based on the summary of your findings.\n",
    "            \"\"\"),\n",
    "        )\n",
    "task2 = Task(\n",
    "            description=(\"\"\"\n",
    "                    Your task is to determine the probability of a prediction market affirmation being answered 'Yes' or 'No'.\n",
    "Use the sentence provided in 'SENTENCE' and follow these guidelines:\n",
    "* Focus on the affirmation inside double quotes in 'SENTENCE'.\n",
    "* The question must have only 'Yes' or 'No' outcomes. If not, respond with \"Error\".\n",
    "* Use the tools provided to aid your estimation.\n",
    "* Evaluate recent information more heavily than older information.\n",
    "* Your response should include:\n",
    "    - \"decision\": The decision you made. Either `y` (for `Yes`) or `n` (for `No`).\n",
    "    - \"p_yes\": Probability that the sentence outcome will be `Yes`. Ranging from 0 (lowest probability) to 1 (maximum probability).\n",
    "    - \"p_no\": Probability that the sentence outcome will be `No`. Ranging from 0 (lowest probability) to 1 (maximum probability).\n",
    "    - \"confidence\": Indicating the confidence in the estimated probabilities you provided ranging from 0 (lowest confidence) to 1 (maximum confidence). \n",
    "    Confidence can be calculated based on the quality and quantity of data used for the estimation.\n",
    "    \n",
    "    Ensure p_yes + p_no equals 1.\n",
    "\n",
    "    SENTENCE: {sentence}\n",
    "              \"\"\"\n",
    "            ),\n",
    "        expected_output=\"\"\"\n",
    "    Your response should include:\n",
    "- \"decision\": The decision you made. Either `y` (for `Yes`) or `n` (for `No`).\n",
    "- \"p_yes\": Probability that the sentence outcome will be `Yes`. Ranging from 0 (lowest probability) to 1 (maximum probability).\n",
    "- \"p_no\": Probability that the sentence outcome will be `No`. Ranging from 0 (lowest probability) to 1 (maximum probability).\n",
    "- \"confidence\": Indicating the confidence in the estimated probabilities you provided ranging from 0 (lowest confidence) to \n",
    "1 (maximum confidence). Confidence can be calculated based on the quality and quantity of data used for the estimation.\n",
    "\n",
    "Format your response in JSON format, including the keys \"decision\", \"p_yes\", \"p_no\" and \"confidence\".\n",
    "        \"\"\",\n",
    "            agent=predictor,\n",
    "        output_json=ProbabilityOutput\n",
    "        )\n",
    "crew = Crew(\n",
    "            agents=[researcher, predictor],\n",
    "            tasks=[task1, task2],\n",
    "            verbose=2,\n",
    "        )\n"
   ]
  },
  {
   "cell_type": "code",
   "execution_count": 61,
   "id": "7af9ade5-e35e-4239-9610-9f0a14ec8cc4",
   "metadata": {},
   "outputs": [
    {
     "name": "stdout",
     "output_type": "stream",
     "text": [
      "\u001b[1m\u001b[93m [DEBUG]: == Working Agent: Research Analyst\u001b[00m\n",
      "\u001b[1m\u001b[93m [INFO]: == Starting Task: \n",
      "                Research and report on the following sentence:\n",
      "                - The exchange rate will reach parity (1€ = 1$) before 2027: \n",
      "This scenario could occur if the European economy strengthens significantly or if \n",
      "the US economy weakens. Factors that could influence this scenario include \n",
      "unexpected economic growth in the Eurozone, a significant increase in European \n",
      "interest rates, or a major economic crisis in the United States.\n",
      "                Search and scrape the web for information that will help you give a high quality, nuanced answer to the question.\n",
      "                \u001b[00m\n",
      "\n",
      "\n",
      "\u001b[1m> Entering new CrewAgentExecutor chain...\u001b[0m\n",
      "\u001b[32;1m\u001b[1;3mFirst, I'll need to research current trends and forecasts for the European and US economies, as well as factors that could influence the exchange rate such as interest rates and economic crises. I'll start by searching for recent predictions and analyses of the European economy. \n",
      "\n",
      "Action: \n",
      "Search the internet\n",
      "\n",
      "Action Input: \n",
      "{\n",
      "\"search_query\": \"European economy forecast 2027\"\n",
      "}\u001b[0m\u001b[93m \n",
      "\n",
      "\n",
      "Search results: Title: Spring 2023 Economic Forecast: an improved outlook amid ...\n",
      "Link: https://economy-finance.ec.europa.eu/economic-forecast-and-surveys/economic-forecasts/spring-2023-economic-forecast-improved-outlook-amid-persistent-challenges_en\n",
      "Snippet: EU GDP growth is revised up to 1.0% in 2023 (from 0.8%) and 1.7% in 2024 (from 1.6%), virtually closing the gap with potential output by the end ...\n",
      "---\n",
      "Title: European Union - gross domestic product 2018-2028 - Statista\n",
      "Link: https://www.statista.com/statistics/527869/european-union-gross-domestic-product-forecast/\n",
      "Snippet: European Union: Gross domestic product (GDP) from 2018 to 2028 (in billion U.S. dollars) ; 2027, 20,612.93 ; 2026, 19,989.96 ; 2025, 19,282.98.\n",
      "---\n",
      "Title: [PDF] European Economic Forecast. Autumn 2023 - Economy and Finance\n",
      "Link: https://economy-finance.ec.europa.eu/system/files/2023-12/ip258_en.pdf\n",
      "Snippet: ... GDP target in 2027. Still, the scale of fiscal support is likely to decline within the forecast horizon and the fiscal deficit is expected ...\n",
      "---\n",
      "Title: Gross domestic product (GDP) growth in EU and Euro area 2028\n",
      "Link: https://www.statista.com/statistics/267898/gross-domestic-product-gdp-growth-in-eu-and-euro-area/\n",
      "Snippet: Growth of the real gross domestic product (GDP) in the European Union and the Euro area from 2018 to 2028 (compared to the previous year) ; 2027* ...\n",
      "---\n",
      "Title: [PDF] November 2023 Regional Economic Outlook: Europe\n",
      "Link: https://www.imf.org/-/media/Files/Publications/REO/EUR/2023/November/English/text.ashx\n",
      "Snippet: Growth in the region overall is expected to slow to 1.3 percent in 2023 from 2.7 percent last year, and improve to 1.5 percent in 2024.\n",
      "---\n",
      "Title: European Union - IMF Data Mapper ®\n",
      "Link: https://www.imf.org/external/datamapper/profile/EU\n",
      "Snippet: European Union. European Union. Datasets. World Economic Outlook (October 2023) 15 indicator s , 1980 - 2028. Collapse all. Real GDP growth. Annual percent ...\n",
      "---\n",
      "Title: Global Economic Outlook - The Conference Board\n",
      "Link: https://www.conference-board.org/topics/global-economic-outlook\n",
      "Snippet: Our Europe forecast continues to point to very modest improvement in 2024 after barely avoiding recession in 2023. The Euro Area did experience a recession in ...\n",
      "---\n",
      "Title: Economy of the European Union - Wikipedia\n",
      "Link: https://en.wikipedia.org/wiki/Economy_of_the_European_Union\n",
      "Snippet: The European Union's GDP is estimated to be $19.35 trillion (nominal) in 2024 or $26.64 trillion (PPP), representing around one-sixth of the global economy.\n",
      "---\n",
      "Title: EU Commission cuts 2024 euro zone growth forecast, sees smaller ...\n",
      "Link: https://www.reuters.com/markets/europe/eu-commission-cuts-2024-euro-zone-growth-forecast-sees-smaller-inflation-2024-02-15/\n",
      "Snippet: The euro zone economy will grow slower than expected this year after price growth eroded purchasing power and high ECB interest rates curbed ...\n",
      "---\n",
      "Title: GDP and spending - Real GDP long-term forecast - OECD Data\n",
      "Link: https://data.oecd.org/gdp/real-gdp-long-term-forecast.htm\n",
      "Snippet: Indicators. Gross domestic product (GDP) · Quarterly GDP · Real GDP forecast ... 2027: 32 746 700 Million US dollars China ... European Union; Euro Area; G7; G20\n",
      "---\n",
      "\n",
      "\u001b[00m\n",
      "\u001b[32;1m\u001b[1;3mThought: \n",
      "The search results provide information on the forecast of the European economy up to 2027. The GDP growth is expected to be modest, with some challenges expected. The European Union's GDP is projected to increase annually, which could strengthen the Euro. Next, I will research the forecast for the US economy. \n",
      "\n",
      "Action: \n",
      "Search the internet\n",
      "\n",
      "Action Input: \n",
      "{\n",
      "\"search_query\": \"US economy forecast 2027\"\n",
      "}\u001b[0m\u001b[93m \n",
      "\n",
      "\n",
      "Search results: Title: [PDF] The Economic Outlook for 2017 to 2027 in 16 Slides\n",
      "Link: https://www.cbo.gov/sites/default/files/115th-congress-2017-2018/presentation/52375-2017economicoutlook.pdf\n",
      "Snippet: The growth of aggregate demand for goods and services in the economy will increase the demand for labor, eliminating the shortfall between actual and potential ...\n",
      "---\n",
      "Title: GDP and spending - Real GDP long-term forecast - OECD Data\n",
      "Link: https://data.oecd.org/gdp/real-gdp-long-term-forecast.htm\n",
      "Snippet: Real GDP long-term forecastTotal, Million US dollars, 2020 – 2060 2020 – 2060Source: Long-term baseline projections, No. 114 (Edition 2023). Show: Chart; Map ...\n",
      "---\n",
      "Title: AI may start to boost US GDP in 2027 - Goldman Sachs\n",
      "Link: https://www.goldmansachs.com/intelligence/pages/ai-may-start-to-boost-us-gdp-in-2027.html\n",
      "Snippet: In the baseline scenario, the Goldman Sachs Research economists estimate AI could increase US productivity growth by 1.5 percentage points ...\n",
      "---\n",
      "Title: Budget and Economic Outlook 2017 to 2027\n",
      "Link: https://bookstore.gpo.gov/products/budget-and-economic-outlook-2017-2027\n",
      "Snippet: The Budget Deficit for 2017 Is Projected to Be Similar to Last Year's. Growing Deficits Through 2027 Are Projected to Drive Up Federal Debt. The Projected ...\n",
      "---\n",
      "Title: GDP forecast U.S. 2034 - Statista\n",
      "Link: https://www.statista.com/statistics/216985/forecast-of-us-gross-domestic-product/\n",
      "Snippet: According to the CBO, the United States GDP will increase steadily over the next decade from 28.18 trillion U.S. dollars in 2023 to 41.65 ...\n",
      "---\n",
      "Title: U.S. Economic Forecast Update: A Sturdy Job Market Keeps Growth ...\n",
      "Link: https://www.spglobal.com/ratings/en/research/articles/240221-u-s-economic-forecast-update-a-sturdy-job-market-keeps-growth-going-13011286\n",
      "Snippet: We now expect U.S. real GDP growth of 2.4% in 2024 as the labor market remains sturdy. This is up from our previous forecast of 1.5% ...\n",
      "---\n",
      "Title: Economic Forecast for the US Economy - The Conference Board\n",
      "Link: https://www.conference-board.org/research/us-forecast\n",
      "Snippet: The US economy entered 2024 on strong footing. Various indicators of business activity, labor markets, sentiment, and inflation have generally been moving ...\n",
      "---\n",
      "Title: Gross domestic product (GDP) growth rate in the United States 2028\n",
      "Link: https://www.statista.com/statistics/263614/gross-domestic-product-gdp-growth-rate-in-the-united-states/\n",
      "Snippet: Real gross domestic product (GDP) growth rate in the United States from 2018 to 2028 (compared to the previous year) ; 2027*, 2.12% ; 2026*, 2.06%.\n",
      "---\n",
      "Title: The Top 10 Economies in 2027 - Nasdaq\n",
      "Link: https://www.nasdaq.com/articles/the-top-10-economies-in-2027\n",
      "Snippet: The size of the U.S., which is poised to be $25.03 trillion in 2022, will be $30.28 trillion by 2027. 2. China. 2021: 2. 2022: 2. 2027: 2. China ...\n",
      "---\n",
      "\n",
      "\u001b[00m\n",
      "\u001b[32;1m\u001b[1;3mThought: \n",
      "The search results indicate that the US economy is also expected to grow moderately, with GDP forecasts indicating steady increases. The impact of AI on productivity growth could also play a role. To understand how these economy forecasts could influence the Euro-Dollar exchange rate, I need to research recent predictions and analyses of the Euro-Dollar exchange rate, as well as the factors that could influence it, such as interest rates and economic crises. \n",
      "\n",
      "Action: \n",
      "Search the internet\n",
      "\n",
      "Action Input: \n",
      "{\n",
      "\"search_query\": \"Euro-Dollar exchange rate forecast 2027\"\n",
      "} \n",
      "\u001b[0m\u001b[93m \n",
      "\n",
      "\n",
      "Search results: Title: EURO TO DOLLAR FORECAST 2024, 2025, 2026 - 2028\n",
      "Link: https://longforecast.com/euro-to-dollar-eur-usd-forecast-2017-2018-2019-2020\n",
      "Snippet: EUR to USD forecast for September 2027. In the beginning rate at 0.929 Dollars. High exchange rate 0.966 and low 0.929. The average for the month 0.944. EUR to ...\n",
      "---\n",
      "Title: Euro to Dollar (EURUSD) Forecast for 2024-2025 and Beyond till 2030\n",
      "Link: https://www.litefinance.org/blog/analysts-opinions/eurusd-forecast-and-price-prediction/\n",
      "Snippet: The rate can reach 1.296 before 2027 if an optimistic scenario plays out. It's worth noting that the euro price may fall below $1 while correcting. The currency ...\n",
      "---\n",
      "Title: Euro to Dollar (EUR/USD) Forecast & Price Predictions 2024, 2025 ...\n",
      "Link: https://capex.com/en/overview/eurusd-price-prediction\n",
      "Snippet: Commerzbank analysts forecast the Euro to Dollar exchange rate (EUR/USD) to strengthen to 1.12 by June 2024 before fading to 1.08 by March 2025. The bank ...\n",
      "---\n",
      "Title: Euro to dollar history Mar 29, 2024 - Statista\n",
      "Link: https://www.statista.com/statistics/412794/euro-to-u-s-dollar-annual-average-exchange-rate/\n",
      "Snippet: The euro-to-dollar exchange rate fluctuated significantly in 2022, reaching its lowest recorded value since 2008 during that time.\n",
      "---\n",
      "Title: EUR to USD Forecast: Euro vs US Dollar 2024, 2025-2030\n",
      "Link: https://coincodex.com/forex/eur-usd/forecast/\n",
      "Snippet: The EUR to USD forecast for the next 5 year indicates that the EUR/USD exchange rate will be $ 0.860958 5 years from now. This would be a -20.05% decrease ...\n",
      "---\n",
      "Title: USD to EUR Forecast: US Dollar vs Euro 2024, 2025-2030\n",
      "Link: https://coincodex.com/forex/usd-eur/forecast/\n",
      "Snippet: The forecast for EUR to USD in 2030 is that the exchange rate will be € 1.188264 6 years from now. This would be 27.96% higher than the current exchange rate.\n",
      "---\n",
      "Title: USD/EUR Forecast, United States Dollar / Euro currency rate ...\n",
      "Link: https://gov.capital/forex/usd-eur/\n",
      "Snippet: United States Dollar / Euro (USDEUR) rate forecast is 1.5982958910033. The (USDEUR) currency rate prediction is 1.5982958910033 USD for 2025 April 03, ...\n",
      "---\n",
      "Title: Long-Term Foreign Exchange Rate Predictions 2023-2028: Euro ...\n",
      "Link: https://www.exchangerates.org.uk/news/37832/2023-03-29-foreign-exchange-rate-forecast-2023-2024-2025-2026-2027-2028-euro-pound-sterling-dollar.html\n",
      "Snippet: According to HSBC, the potential fair-value estimates for the Euro to dollar (EUR/USD) exchange rate range from 1.1230 - 1.2850. For the dollar ...\n",
      "---\n",
      "Title: USD to EUR Forecast: up to 0.957! Dollar to Euro Analysis ...\n",
      "Link: https://walletinvestor.com/forex-forecast/usd-eur-prediction\n",
      "Snippet: USD/EUR rate equal to 0.931 at 2024-04-02 (today's range: 0.931 - 0.932). Based on our forecasts, a long-term increase is expected, the Forex rate prognosis for ...\n",
      "---\n",
      "\n",
      "\u001b[00m\n",
      "\u001b[32;1m\u001b[1;3mThought: \n",
      "The search results provide a range of forecasts for the Euro-Dollar exchange rate, with some predicting the rate to reach near parity and others predicting it to remain below 1. However, the rate could potentially reach 1.296 before 2027 in an optimistic scenario. It's also worth noting that the exchange rate is influenced by a number of unpredictable factors, including economic growth, interest rates, and economic crises in both the Eurozone and the US. To provide a comprehensive report, I'll also search for information on interest rates and potential economic crises in both regions. \n",
      "\n",
      "Action: \n",
      "Search the internet\n",
      "\n",
      "Action Input: \n",
      "{\n",
      "\"search_query\": \"European and US interest rates forecast 2027\"\n",
      "} \n",
      "\u001b[0m\u001b[93m \n",
      "\n",
      "\n",
      "Search results: Title: Long-term interest rates forecast - OECD Data\n",
      "Link: https://data.oecd.org/interest/long-term-interest-rates-forecast.htm\n",
      "Snippet: Long-term interest rates forecast refers to projected values of government bonds maturing in ten years. It is measured as a percentage. Forecast data are ...\n",
      "---\n",
      "Title: Projected ECB Interest Rates in 5 Years - Capital.com\n",
      "Link: https://capital.com/projected-ecb-rate-rise-in-5-years\n",
      "Snippet: The survey respondents saw inflation at 2.1% in 2025, and the longer-term forecast for 2027 was revised down by 0.1 points to average at 2.1%. ECB's survey of ...\n",
      "---\n",
      "Title: Charted: IMF Forecasts for International Interest Rates\n",
      "Link: https://www.visualcapitalist.com/international-interest-rates-forecast/\n",
      "Snippet: Interest Rates Forecasts for 4 Major Economies (2024‒2028) ; 2027Q2, 2.6%, 2.7%, 0.1%, 4.4% ; 2027Q3, 2.6%, 2.6%, 0.1%, 4.4%.\n",
      "---\n",
      "Title: Markets bet strength of US economy will limit scale of Fed rate cuts\n",
      "Link: https://www.ft.com/content/d5ea31c5-36f6-449e-aa2b-2eea391fc5d9\n",
      "Snippet: The market-implied probability of the Fed's benchmark interest rate is about 3.6 per cent from 2027, making traders' predictions for the so- ...\n",
      "---\n",
      "Title: Projected US Interest Rates in 5 Years: When Will the Fed Cuts Start?\n",
      "Link: https://www.ccn.com/analysis/projected-us-interest-rates-in-5-years/\n",
      "Snippet: It is now anticipated to reach 2.6% for 2024, surpassing the 2.4% projection from December. Forecasts for 2025 and 2026 remained unchanged at 2.2% and 2.0%, ...\n",
      "---\n",
      "Title: Projected interest rates in 5 years: Is the central bank done hiking?\n",
      "Link: https://capital.com/projected-interest-rates-in-5-years\n",
      "Snippet: The rate is then predicted to fall back to 3.75% in 2024 and 3.25% in 2025, according to our econometric models.\n",
      "---\n",
      "Title: The ECB Survey of Professional Forecasters - First quarter of 2023\n",
      "Link: https://www.ecb.europa.eu/stats/ecb_surveys/survey_of_professional_forecasters/html/ecb.spf2023q1~af876c4cfb.en.html\n",
      "Snippet: Longer-term inflation expectations (for 2027) were revised down by 0.1 percentage points to stand at 2.1%. When excluding (trimming) the two ...\n",
      "---\n",
      "Title: World Economic Outlook - International Monetary Fund\n",
      "Link: https://www.imf.org/en/Publications/WEO\n",
      "Snippet: Description: Global growth is projected to stay at 3.1 percent in 2024 and rise to 3.2 percent in 2025. Elevated central bank rates to fight ...\n",
      "---\n",
      "Title: US economic outlook: peak interest rates are applying the brakes to ...\n",
      "Link: https://www.swissre.com/institute/research/sigma-research/Economic-Outlook/us-economic-outlook-december-2023.html\n",
      "Snippet: We expect US real GDP growth to slow materially to 1.1% in 2024 from 2.4% this year. Further slack is needed in the labour market next year for ...\n",
      "---\n",
      "Title: Prices - Inflation forecast - OECD Data\n",
      "Link: https://data.oecd.org/price/inflation-forecast.htm\n",
      "Snippet: Inflation forecastTotal, Annual growth rate ... European Union (27 countries, 2020), 0.830, 0.828 ... Total. Data table for: Exchange rates, Total, National ...\n",
      "---\n",
      "\n",
      "\u001b[00m\n",
      "\u001b[32;1m\u001b[1;3mThought: \n",
      "The search results provide information on the forecasted interest rates for both the European and US economies. The interest rates are expected to fluctuate, which could potentially impact the Euro-Dollar exchange rate. The ECB's interest rate for 2027 is anticipated to average at 2.1%, while the Fed's benchmark interest rate is predicted to be about 3.6% from 2027. To further understand the potential impact on the exchange rate, I'll now research potential economic crises that could occur in the Eurozone and the US. \n",
      "\n",
      "Action: \n",
      "Search the internet\n",
      "\n",
      "Action Input: \n",
      "{\n",
      "\"search_query\": \"Potential economic crisis Eurozone and US 2027\"\n",
      "} \n",
      "\u001b[0m\u001b[93m \n",
      "\n",
      "\n",
      "Search results: Title: Europe's problems are far bigger than a shallow recession - Reuters\n",
      "Link: https://www.reuters.com/markets/europe/europes-problems-are-far-bigger-than-shallow-recession-2023-11-14/\n",
      "Snippet: The European Commission now puts the bloc's potential growth at less than 1.5%, shrinking to 1.2% by 2027, a decline from 2%-2.5% at the turn ...\n",
      "---\n",
      "Title: Risk of 'lost decade' as EU countries face economic cliff edge\n",
      "Link: https://www.politico.eu/article/eu-countries-economy-spending-rules-budget-pandemic-funds/\n",
      "Snippet: Southern European economies were mired in long recessions after the eurozone crisis ... Countries could avoid the economic cliff edge in 2027 ...\n",
      "---\n",
      "Title: United States Economic Forecast - Deloitte\n",
      "Link: https://www2.deloitte.com/us/en/insights/economy/us-economic-forecast/united-states-outlook-analysis.html\n",
      "Snippet: In this scenario, Eurozone GDP is flat in 2024 and declines by 0.3% in 2025. This, in turn, impacts the US trade balance as fewer American exports flow to one ...\n",
      "---\n",
      "Title: Who Is the Ultimate European Taxpayer? Understanding the ... - CSIS\n",
      "Link: https://www.csis.org/analysis/who-ultimate-european-taxpayer-understanding-problem-european-sovereign-debt\n",
      "Snippet: Total debt issued by the European Union will peak at less than €1 trillion at some point before 2027; in comparison, outstanding U.S. debt is ...\n",
      "---\n",
      "Title: World Economic Outlook - International Monetary Fund\n",
      "Link: https://www.imf.org/en/Publications/WEO\n",
      "Snippet: Advanced economies are expected to see an especially pronounced growth slowdown, from 2.7 percent in 2022 to 1.3 percent in 2023. In a plausible ...\n",
      "---\n",
      "Title: The Eurozone Crisis and Implications for the United States | Brookings\n",
      "Link: https://www.brookings.edu/articles/the-eurozone-crisis-and-implications-for-the-united-states/\n",
      "Snippet: If Europe were to be shaken by a series of nations defaulting on their government debt, I am convinced that the continent would plunge into a severe recession.\n",
      "---\n",
      "Title: Timeline - EU long-term budget 2021-2027 - Consilium\n",
      "Link: https://www.consilium.europa.eu/en/policies/eu-long-term-budget/timeline-long-term-eu-budget-2021-2027/\n",
      "Snippet: EU leaders discussed via video conference the 2021-2027 EU budget and a recovery plan to respond to the COVID-19 crisis. European Council President Michel ...\n",
      "---\n",
      "Title: Global Economic Outlook - The Conference Board\n",
      "Link: https://www.conference-board.org/topics/global-economic-outlook\n",
      "Snippet: Our Europe forecast continues to point to very modest improvement in 2024 after barely avoiding recession in 2023. The Euro Area did experience a recession in ...\n",
      "---\n",
      "Title: European debt crisis - Wikipedia\n",
      "Link: https://en.wikipedia.org/wiki/European_debt_crisis\n",
      "Snippet: The European debt crisis erupted in the wake of the Great Recession around late 2009, and was characterized by an environment of overly high government ...\n",
      "---\n",
      "Title: Mid-term revision of the EU long-term budget 2021-2027 - Consilium\n",
      "Link: https://www.consilium.europa.eu/en/policies/eu-long-term-budget/mid-term-revision-of-the-eu-long-term-budget-2021-2027/\n",
      "Snippet: The mid-term revision builds on a Commission proposal from June 2023. EU leaders greenlit the additional funding at a special European Council meeting on 1 ...\n",
      "---\n",
      "\n",
      "\u001b[00m\n",
      "\u001b[32;1m\u001b[1;3mThought: \n",
      "The search results indicate potential economic crises in both the Eurozone and the US. The Eurozone could face a potential economic cliff edge in 2027, and the European Commission forecasts a decline in the bloc's potential growth. Meanwhile, the US could be impacted by a decrease in exports due to a recession in the Eurozone. However, these events are predictive and depend on various factors, making it challenging to accurately forecast their impact on the Euro-Dollar exchange rate. Now, I have a comprehensive view of the influencing factors and can formulate a well-thought-out report. \n",
      "\n",
      "Final Answer: \n",
      "{\n",
      "\"report\": \"The Euro-Dollar exchange rate reaching parity (1€ = 1$) before 2027 depends on several influencing factors. The European and US economies are both projected to grow moderately, which could strengthen their respective currencies. However, the potential impact of interest rates and economic crises could disrupt this trend. The European Central Bank's interest rate for 2027 is anticipated to average at 2.1%, while the Federal Reserve's benchmark interest rate is predicted to be about 3.6% from 2027. These interest rates could influence the exchange rate, with higher rates potentially strengthening the respective currencies. Furthermore, potential economic crises, such as an economic cliff edge in the Eurozone and a decrease in US exports due to a Eurozone recession, could impact the exchange rate. However, due to the unpredictable nature of these factors, it is challenging to accurately forecast whether the Euro-Dollar exchange rate will reach parity before 2027. It is important to monitor these factors and adjust predictions as new information becomes available.\"\n",
      "}\u001b[0m\n",
      "\n",
      "\u001b[1m> Finished chain.\u001b[0m\n",
      "\u001b[1m\u001b[92m [DEBUG]: == [Research Analyst] Task output: {\n",
      "\"report\": \"The Euro-Dollar exchange rate reaching parity (1€ = 1$) before 2027 depends on several influencing factors. The European and US economies are both projected to grow moderately, which could strengthen their respective currencies. However, the potential impact of interest rates and economic crises could disrupt this trend. The European Central Bank's interest rate for 2027 is anticipated to average at 2.1%, while the Federal Reserve's benchmark interest rate is predicted to be about 3.6% from 2027. These interest rates could influence the exchange rate, with higher rates potentially strengthening the respective currencies. Furthermore, potential economic crises, such as an economic cliff edge in the Eurozone and a decrease in US exports due to a Eurozone recession, could impact the exchange rate. However, due to the unpredictable nature of these factors, it is challenging to accurately forecast whether the Euro-Dollar exchange rate will reach parity before 2027. It is important to monitor these factors and adjust predictions as new information becomes available.\"\n",
      "}\n",
      "\n",
      "\u001b[00m\n",
      "\u001b[1m\u001b[93m [DEBUG]: == Working Agent: Professional Gambler\u001b[00m\n",
      "\u001b[1m\u001b[93m [INFO]: == Starting Task: \n",
      "                    Your task is to determine the probability of a prediction market affirmation being answered 'Yes' or 'No'.\n",
      "Use the sentence provided in 'SENTENCE' and follow these guidelines:\n",
      "* Focus on the affirmation inside double quotes in 'SENTENCE'.\n",
      "* The question must have only 'Yes' or 'No' outcomes. If not, respond with \"Error\".\n",
      "* Use the tools provided to aid your estimation.\n",
      "* Evaluate recent information more heavily than older information.\n",
      "* Your response should include:\n",
      "    - \"decision\": The decision you made. Either `y` (for `Yes`) or `n` (for `No`).\n",
      "    - \"p_yes\": Probability that the sentence outcome will be `Yes`. Ranging from 0 (lowest probability) to 1 (maximum probability).\n",
      "    - \"p_no\": Probability that the sentence outcome will be `No`. Ranging from 0 (lowest probability) to 1 (maximum probability).\n",
      "    - \"confidence\": Indicating the confidence in the estimated probabilities you provided ranging from 0 (lowest confidence) to 1 (maximum confidence). \n",
      "    Confidence can be calculated based on the quality and quantity of data used for the estimation.\n",
      "    \n",
      "    Ensure p_yes + p_no equals 1.\n",
      "\n",
      "    SENTENCE: - The exchange rate will reach parity (1€ = 1$) before 2027: \n",
      "This scenario could occur if the European economy strengthens significantly or if \n",
      "the US economy weakens. Factors that could influence this scenario include \n",
      "unexpected economic growth in the Eurozone, a significant increase in European \n",
      "interest rates, or a major economic crisis in the United States.\n",
      "              \u001b[00m\n",
      "\n",
      "\n",
      "\u001b[1m> Entering new CrewAgentExecutor chain...\u001b[0m\n",
      "\u001b[32;1m\u001b[1;3mGiven the context and the report, it is clear that there are several influencing factors that could potentially affect whether the Euro-Dollar exchange rate will reach parity before 2027. These factors include the projected growth of the European and US economies, the potential impact of interest rates, and the possibility of an economic crisis. While the European Central Bank's interest rate for 2027 is anticipated to average at 2.1% and the Federal Reserve's benchmark interest rate is predicted to be about 3.6% from 2027, it is difficult to accurately predict the impact these rates will have on the exchange rate. Furthermore, potential economic crises could significantly disrupt the exchange rate. However, due to the unpredictable nature of these factors, it is challenging to accurately forecast the outcome.\n",
      "\n",
      "Final Answer: \n",
      "{\n",
      "\"decision\": \"n\",\n",
      "\"p_yes\": 0.4,\n",
      "\"p_no\": 0.6,\n",
      "\"confidence\": 0.7\n",
      "}\u001b[0m\n",
      "\n",
      "\u001b[1m> Finished chain.\u001b[0m\n",
      "\u001b[1m\u001b[92m [DEBUG]: == [Professional Gambler] Task output: {\n",
      "  \"decision\": \"n\",\n",
      "  \"p_yes\": 0.4,\n",
      "  \"p_no\": 0.6,\n",
      "  \"confidence\": 0.7\n",
      "}\n",
      "\n",
      "\u001b[00m\n"
     ]
    }
   ],
   "source": [
    "#sentence = 'The temperature will be above 20C on May 24, 2024 in Berlin.'\n",
    "sentence = \"\"\"- The exchange rate will reach parity (1€ = 1$) before 2027: \n",
    "This scenario could occur if the European economy strengthens significantly or if \n",
    "the US economy weakens. Factors that could influence this scenario include \n",
    "unexpected economic growth in the Eurozone, a significant increase in European \n",
    "interest rates, or a major economic crisis in the United States.\"\"\"\n",
    "result = crew.kickoff(inputs={'sentence': sentence})"
   ]
  },
  {
   "cell_type": "code",
   "execution_count": 62,
   "id": "15e8eb0b-e4cc-4760-ac05-31d05c699b6f",
   "metadata": {},
   "outputs": [
    {
     "name": "stdout",
     "output_type": "stream",
     "text": [
      "loaded result {'decision': 'n', 'p_yes': 0.4, 'p_no': 0.6, 'confidence': 0.7}\n",
      "result {'decision': 'n', 'p_yes': 0.4, 'p_no': 0.6, 'confidence': 0.7}\n",
      "False\n"
     ]
    }
   ],
   "source": [
    "#assert \"report\" in report\n",
    "loaded_result = json.loads(result)\n",
    "print (f'loaded result {loaded_result}')\n",
    "#assert \"prediction\" in result\n",
    "print (f'result {loaded_result}')\n",
    "print(True if loaded_result[\"decision\"] == \"y\" else False)"
   ]
  },
  {
   "cell_type": "code",
   "execution_count": 39,
   "id": "cd0a9365-cb7b-4761-8e74-3804043fcaf1",
   "metadata": {},
   "outputs": [
    {
     "data": {
      "text/plain": [
       "{'report': \"The research suggests that it is unlikely for the exchange rate to reach parity (1€ = 1$) before 2027. The projected economic conditions in the Eurozone and the US do not align with the scenario where this could occur. The Eurozone's economic growth is expected to be modest, not indicating a significant strengthening. The US economy, while predicted to slow down, is still expected to grow, not pointing to a major crisis. Unexpected economic growth in the Eurozone and a significant increase in European interest rates do not seem to be on the horizon either. Therefore, based on the current and projected economic conditions in both regions, reaching parity in the given time frame seems improbable.\"}"
      ]
     },
     "execution_count": 39,
     "metadata": {},
     "output_type": "execute_result"
    }
   ],
   "source": [
    "report"
   ]
  },
  {
   "cell_type": "markdown",
   "id": "531c4d44-486d-402b-b75d-dcd415b624ac",
   "metadata": {},
   "source": [
    "# Next steps\n",
    "'''\n",
    "- Improve sentence generation - tell LLM to generate correct outcome first, then\n",
    "alternate outcomes afterwards.\n",
    "- Run script for each sentence\n",
    "- For each sentence, get highest probability (p_yes or p_no), multiply by confidence\n",
    "- Get sentence which makes the question be true and get likelihood from that\n",
    "'''\n"
   ]
  },
  {
   "cell_type": "markdown",
   "id": "12d898db-780a-41ad-8a29-f0c4553daa3f",
   "metadata": {},
   "source": [
    "Example\n",
    "\n",
    "Q - Will the temperature be above 20C on May 24, 2024 in Berlin?\n",
    "\n",
    "Outcomes:\n",
    "1 - The temperature will be above 20C on May 24, 2024 in Berlin.\n",
    "2 - The temperature will be exactly 20C on May 24, 2024 in Berlin.\n",
    "3 - The temperature will be below 20C but above 10C on May 24, 2024 in Berlin.\n",
    "4 - The temperature will be below 10C but above 0C on May 24, 2024 in Berlin.\n",
    "5 - The temperature will be below 0C on May 24, 2024 in Berlin.\n",
    "\n",
    "We process the LLMs for each outcome, and we get the following\n",
    "\n",
    "1 - {confidence: 0.5, p_yes: 0.6, p_no: 0.4} -> p_yes selected (p_yes > p_no) -> 0.6 * 0.5 = 0.3 \n",
    "2 - {confidence: 0.9, p_yes: 0.9, p_no: 0.1} -> \n",
    "3 - {confidence: 0.4, p_yes: 0.8, p_no: 0.2}\n",
    "4 - {confidence: 0.3, p_yes: 0.7, p_no: 0.3}\n",
    "5 - {confidence: 0.4, p_yes: 0.7, p_no: 0.3}\n",
    "\n",
    "Note that outcome 1 is always a rephrase of the question. So we are only interUested in that outcome.\n",
    "The idea is, however, that we can \"normalize\" that outcome by the other probabilities and confidences.\n",
    "\n",
    "I have 2 ideas I would like to suggest:\n",
    "-> Get highest probability (max(p_yes,p_no)), normalize by the other probabilities, return that as probability that\n",
    "the question is true\n",
    "-> Use confidence as a \"weight\" for the probability before normalizing like above, i.e. \n",
    "\n",
    "$\\sum(w_i * p_i) = 1$\n",
    "\n",
    "and we return the normalized $(w_i * p_i)$ as the probability."
   ]
  },
  {
   "cell_type": "code",
   "execution_count": null,
   "id": "f45ce677-95a3-4018-9ae1-7bad121098aa",
   "metadata": {},
   "outputs": [],
   "source": []
  }
 ],
 "metadata": {
  "kernelspec": {
   "display_name": "Python 3 (ipykernel)",
   "language": "python",
   "name": "python3"
  },
  "language_info": {
   "codemirror_mode": {
    "name": "ipython",
    "version": 3
   },
   "file_extension": ".py",
   "mimetype": "text/x-python",
   "name": "python",
   "nbconvert_exporter": "python",
   "pygments_lexer": "ipython3",
   "version": "3.10.14"
  }
 },
 "nbformat": 4,
 "nbformat_minor": 5
}
